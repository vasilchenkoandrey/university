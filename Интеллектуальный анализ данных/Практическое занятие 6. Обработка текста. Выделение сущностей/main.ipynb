{
 "cells": [
  {
   "cell_type": "markdown",
   "metadata": {},
   "source": [
    "# Практическое занятие 5. Обработка текста. Токенизация. Лемматизация\n",
    "1. Возьмите текст о Лондоне на английском языке из википедии. Напишите сценарий для очистки текста от ссылок на источники в квадратных скобках. Используйте регулярные выражения."
   ]
  },
  {
   "cell_type": "code",
   "execution_count": 129,
   "metadata": {},
   "outputs": [],
   "source": [
    "import re\n",
    "text = \"London is the capital and largest city of England and of the United Kingdom. Standing on the River Thames in the south-east of England, at the head of its 50-mile (80 km) estuary leading to the North Sea, London has been a major settlement for two millennia. Londinium was founded by the Romans.[9] The City of London, London's ancient core − an area of just 1.12 square miles (2.9 km2) and colloquially known as the Square Mile − retains boundaries that closely follow its medieval limits.[10][11][12][13][14][note 1] The City of Westminster is also an Inner London borough holding city status. Greater London is governed by the Mayor of London and the London Assembly.\"\n",
    "text = re.sub(r'\\[[^()]*\\]', '', text)"
   ]
  },
  {
   "cell_type": "markdown",
   "metadata": {},
   "source": [
    "2. Выполните токенизацию предложений и слов"
   ]
  },
  {
   "cell_type": "code",
   "execution_count": 257,
   "metadata": {},
   "outputs": [
    {
     "name": "stdout",
     "output_type": "stream",
     "text": [
      "Токенизация по предложениям:\n",
      " ['London is the capital and largest city of England and of the United Kingdom.', 'Standing on the River Thames in the south-east of England, at the head of its 50-mile (80 km) estuary leading to the North Sea, London has been a major settlement for two millennia.', 'Londinium was founded by the Romans.', \"The City of London, London's ancient core − an area of just 1.12 square miles (2.9 km2) and colloquially known as the Square Mile − retains boundaries that closely follow its medieval limits.\", 'The City of Westminster is also an Inner London borough holding city status.', 'Greater London is governed by the Mayor of London and the London Assembly.']\n"
     ]
    }
   ],
   "source": [
    "import spacy\n",
    "nlp = spacy.load(\"en_core_web_sm\")\n",
    "doc = nlp(text)\n",
    "\n",
    "print('Токенизация по предложениям:\\n', [s.text for s in doc.sents])"
   ]
  },
  {
   "cell_type": "code",
   "execution_count": 258,
   "metadata": {},
   "outputs": [
    {
     "name": "stdout",
     "output_type": "stream",
     "text": [
      "\n",
      "Токенизация по словам:\n",
      " [London, is, the, capital, and, largest, city, of, England, and, of, the, United, Kingdom, Standing, on, the, River, Thames, in, the, south, east, of, England, at, the, head, of, its, km, estuary, leading, to, the, North, Sea, London, has, been, a, major, settlement, for, two, millennia, Londinium, was, founded, by, the, Romans, The, City, of, London, London, ancient, core, an, area, of, just, square, miles, and, colloquially, known, as, the, Square, Mile, retains, boundaries, that, closely, follow, its, medieval, limits, The, City, of, Westminster, is, also, an, Inner, London, borough, holding, city, status, Greater, London, is, governed, by, the, Mayor, of, London, and, the, London, Assembly]\n"
     ]
    }
   ],
   "source": [
    "print('\\nТокенизация по словам:\\n', [s for s in doc if s.is_alpha])"
   ]
  },
  {
   "cell_type": "markdown",
   "metadata": {},
   "source": [
    "3. Выведите список имен существительных из текста"
   ]
  },
  {
   "cell_type": "code",
   "execution_count": 263,
   "metadata": {},
   "outputs": [
    {
     "name": "stdout",
     "output_type": "stream",
     "text": [
      "Существительные:\n",
      " ['London', 'capital', 'city', 'England', 'United', 'Kingdom', 'River', 'Thames', 'east', 'England', 'head', 'km', 'North', 'Sea', 'London', 'settlement', 'millennia', 'Londinium', 'Romans', 'City', 'London', 'London', 'core', 'area', 'miles', 'km2', 'Square', 'Mile', 'boundaries', 'limits', 'City', 'Westminster', 'Inner', 'London', 'borough', 'city', 'status', 'Greater', 'London', 'Mayor', 'London', 'London', 'Assembly']\n"
     ]
    }
   ],
   "source": [
    "print('Существительные:\\n', [token.text for token in doc if token.pos_ == \"NOUN\" or token.pos_ == \"PROPN\" and token.is_alpha])"
   ]
  },
  {
   "cell_type": "code",
   "execution_count": 265,
   "metadata": {},
   "outputs": [
    {
     "name": "stdout",
     "output_type": "stream",
     "text": [
      "Лемматизация:\n",
      " ['London', 'be', 'the', 'capital', 'and', 'large', 'city', 'of', 'England', 'and', 'of', 'the', 'United', 'Kingdom', 'stand', 'on', 'the', 'River', 'Thames', 'in', 'the', 'south', 'east', 'of', 'England', 'at', 'the', 'head', 'of', '-PRON-', 'km', 'estuary', 'lead', 'to', 'the', 'North', 'Sea', 'London', 'have', 'be', 'a', 'major', 'settlement', 'for', 'two', 'millennium', 'londinium', 'be', 'found', 'by', 'the', 'Romans', 'the', 'City', 'of', 'London', 'London', 'ancient', 'core', 'an', 'area', 'of', 'just', 'square', 'mile', 'and', 'colloquially', 'know', 'as', 'the', 'Square', 'Mile', 'retain', 'boundary', 'that', 'closely', 'follow', '-PRON-', 'medieval', 'limit', 'the', 'City', 'of', 'Westminster', 'be', 'also', 'an', 'Inner', 'London', 'borough', 'hold', 'city', 'status', 'Greater', 'London', 'be', 'govern', 'by', 'the', 'Mayor', 'of', 'London', 'and', 'the', 'London', 'Assembly']\n"
     ]
    }
   ],
   "source": [
    "print('Лемматизация:\\n', [token.lemma_ for token in doc if token.is_alpha])"
   ]
  },
  {
   "cell_type": "markdown",
   "metadata": {},
   "source": [
    "5. Выведите список стоп-слов из данного текста. Расширьте список стоп-слов собственным словарем и удалите стоп-слова из текста согласно расширенному списку"
   ]
  },
  {
   "cell_type": "code",
   "execution_count": 267,
   "metadata": {},
   "outputs": [
    {
     "name": "stdout",
     "output_type": "stream",
     "text": [
      "Стоп-слова:\n",
      " ['is', 'the', 'and', 'of', 'and', 'of', 'the', 'on', 'the', 'in', 'the', 'of', 'at', 'the', 'of', 'its', 'to', 'the', 'has', 'been', 'a', 'for', 'two', 'was', 'by', 'the', 'The', 'of', \"'s\", 'an', 'of', 'just', 'and', 'as', 'the', 'that', 'its', 'The', 'of', 'is', 'also', 'an', 'is', 'by', 'the', 'of', 'and', 'the']\n"
     ]
    }
   ],
   "source": [
    "print('Стоп-слова:\\n', [token.text for token in doc if token.is_stop])"
   ]
  },
  {
   "cell_type": "code",
   "execution_count": 294,
   "metadata": {},
   "outputs": [
    {
     "name": "stdout",
     "output_type": "stream",
     "text": [
      "Удаление Стоп-слова из разширеного словаря:\n",
      " capital largest England United Kingdom . Standing River Thames south - east England , head 50-mile ( 80 km ) estuary leading North Sea , major settlement millennia . Londinium founded Romans . City , ancient core − area 1.12 square miles ( 2.9 km2 ) colloquially known Square Mile − retains boundaries closely follow medieval limits . City Westminster Inner borough holding status . Greater governed Mayor Assembly .\n"
     ]
    }
   ],
   "source": [
    "custome_stopword = ['London', 'city', 'city']\n",
    "print('Удаление Стоп-слова из разширеного словаря:\\n', \" \".join(map(str, [token.text for token in doc if not token.is_stop and token.text not in custome_stopword])))"
   ]
  }
 ],
 "metadata": {
  "kernelspec": {
   "display_name": "Python 3.9.7 ('base')",
   "language": "python",
   "name": "python3"
  },
  "language_info": {
   "codemirror_mode": {
    "name": "ipython",
    "version": 3
   },
   "file_extension": ".py",
   "mimetype": "text/x-python",
   "name": "python",
   "nbconvert_exporter": "python",
   "pygments_lexer": "ipython3",
   "version": "3.9.7"
  },
  "orig_nbformat": 4,
  "vscode": {
   "interpreter": {
    "hash": "1fab2a0badfdc0d973c3ebd85e0e4d8ec4050b23a71ccd2bc6fb0cebba2bebb9"
   }
  }
 },
 "nbformat": 4,
 "nbformat_minor": 2
}
