{
 "cells": [
  {
   "cell_type": "markdown",
   "metadata": {},
   "source": [
    "# РЕШЕНИЕ НЕЛИНЕЙНЫХ УРАВНЕНИЙ\n"
   ]
  },
  {
   "cell_type": "markdown",
   "metadata": {},
   "source": [
    "# 1)Нахождение отрезка с помошью графического анализа "
   ]
  },
  {
   "cell_type": "code",
   "execution_count": 1,
   "metadata": {},
   "outputs": [],
   "source": [
    "import matplotlib.pyplot as plt\n",
    "from math import sin, cos, pi\n",
    "import numpy as np"
   ]
  },
  {
   "cell_type": "code",
   "execution_count": 2,
   "metadata": {},
   "outputs": [
    {
     "data": {
      "image/png": "[encoded data removed]",
      "text/plain": [
       "<Figure size 432x288 with 1 Axes>"
      ]
     },
     "metadata": {
      "needs_background": "light"
     },
     "output_type": "display_data"
    }
   ],
   "source": [
    "x = np.linspace(-pi/2, pi/2, 100)\n",
    "y = np.array([cos(x[i]) for i in range(len(x))])\n",
    "\n",
    "plt.plot(x, y, x, x)\n",
    "plt.legend(['y=cos(x)', 'y=x'], loc='best')\n",
    "plt.grid(True)"
   ]
  },
  {
   "cell_type": "markdown",
   "metadata": {},
   "source": [
    "Вывод: из графического анализа видно, что коренем уравнения является точка пересечения \t\t\t\tфункций y = cos(x) и y = x, которая, по оси абсцисс, находится на отрезке [0,π/4]."
   ]
  },
  {
   "cell_type": "markdown",
   "metadata": {},
   "source": [
    "# 2) Уточнение корня."
   ]
  },
  {
   "cell_type": "markdown",
   "metadata": {},
   "source": [
    "### Метод дихотомии\n"
   ]
  },
  {
   "cell_type": "code",
   "execution_count": 3,
   "metadata": {},
   "outputs": [
    {
     "data": {
      "text/plain": [
       "0.7853981633974483"
      ]
     },
     "execution_count": 3,
     "metadata": {},
     "output_type": "execute_result"
    }
   ],
   "source": [
    "import math\n",
    "\n",
    "def f(x):\n",
    "    return cos(x)\n",
    "\n",
    "def dichotomy(a, b):\n",
    "    iter = 0\n",
    "    c = (a + b) / 2\n",
    "    while (iter < 200) and (f(c) != 0):\n",
    "        a, b = (a, c) if f(a) * f(c) < 0 else (c, b)\n",
    "        c = (a + b) / 2\n",
    "        iter += 1\n",
    "    return (a + b) / 2\n",
    "dichotomy(0, pi/4)\n",
    "\n"
   ]
  },
  {
   "cell_type": "markdown",
   "metadata": {},
   "source": [
    "### Метод Ньютона"
   ]
  },
  {
   "cell_type": "code",
   "execution_count": 7,
   "metadata": {},
   "outputs": [
    {
     "data": {
      "text/plain": [
       "0.7853981633974483"
      ]
     },
     "execution_count": 7,
     "metadata": {},
     "output_type": "execute_result"
    }
   ],
   "source": [
    "def f1(x):\n",
    "    return -sin(x)\n",
    "\n",
    "def newtons(a,b):\n",
    "    try:\n",
    "        x0=(a+b)/2\n",
    "        xn=f(x0)\n",
    "        xn1=xn-f(xn)/f1(xn)\n",
    "        while abs(xn1-xn)>math.pow(10,-5):\n",
    "            xn=xn1\n",
    "            xn1=xn-f(xn)/f1(xn)\n",
    "        return xn1 / 2\n",
    "    except ValueError:\n",
    "        print (\"Value not invalidate\")\n",
    "newtons(0, pi/4)"
   ]
  },
  {
   "cell_type": "code",
   "execution_count": null,
   "metadata": {},
   "outputs": [],
   "source": []
  }
 ],
 "metadata": {
  "kernelspec": {
   "display_name": "Python 3",
   "language": "python",
   "name": "python3"
  },
  "language_info": {
   "codemirror_mode": {
    "name": "ipython",
    "version": 3
   },
   "file_extension": ".py",
   "mimetype": "text/x-python",
   "name": "python",
   "nbconvert_exporter": "python",
   "pygments_lexer": "ipython3",
   "version": "3.7.4"
  }
 },
 "nbformat": 4,
 "nbformat_minor": 2
}
